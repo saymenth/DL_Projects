{
 "cells": [
  {
   "cell_type": "code",
   "execution_count": null,
   "id": "initial_id",
   "metadata": {
    "collapsed": true
   },
   "outputs": [],
   "source": [
    "# Import libraries\n",
    "import numpy as np\n",
    "import matplotlib.pyplot as plt\n",
    "import tensorflow as tf\n",
    "from tensorflow import keras\n",
    "from keras.layers import *\n",
    "from keras.models import *\n",
    "from keras.preprocessing import image\n",
    "from keras.preprocessing.image import ImageDataGenerator\n",
    "import os, shutil\n",
    "import warnings\n",
    "warnings.filterwarnings('ignore')"
   ]
  },
  {
   "cell_type": "code",
   "execution_count": null,
   "outputs": [],
   "source": [
    "# Let's plot a few images\n",
    "train_path = \"../input/vegetable-image-dataset/Vegetable Images/train\"\n",
    "validation_path = \"../input/vegetable-image-dataset/Vegetable Images/validation\"\n",
    "test_path = \"../input/vegetable-image-dataset/Vegetable Images/test\"\n",
    "\n",
    "image_categories = os.listdir('../input/vegetable-image-dataset/Vegetable Images/train')\n",
    "\n",
    "def plot_images(image_categories):\n",
    "    \n",
    "    # Create a figure\n",
    "    plt.figure(figsize=(12, 12))\n",
    "    for i, cat in enumerate(image_categories):\n",
    "        \n",
    "        # Load images for the ith category\n",
    "        image_path = train_path + '/' + cat\n",
    "        images_in_folder = os.listdir(image_path)\n",
    "        first_image_of_folder = images_in_folder[0]\n",
    "        first_image_path = image_path + '/' + first_image_of_folder\n",
    "        img = image.load_img(first_image_path)\n",
    "        img_arr = image.img_to_array(img)/255.0\n",
    "        \n",
    "        \n",
    "        # Create Subplot and plot the images\n",
    "        plt.subplot(4, 4, i+1)\n",
    "        plt.imshow(img_arr)\n",
    "        plt.title(cat)\n",
    "        plt.axis('off')\n",
    "        \n",
    "    plt.show()\n",
    "\n",
    "# Call the function\n",
    "plot_images(image_categories)"
   ],
   "metadata": {
    "collapsed": false
   },
   "id": "e7d0de24206e94bd"
  }
 ],
 "metadata": {
  "kernelspec": {
   "display_name": "Python 3",
   "language": "python",
   "name": "python3"
  },
  "language_info": {
   "codemirror_mode": {
    "name": "ipython",
    "version": 2
   },
   "file_extension": ".py",
   "mimetype": "text/x-python",
   "name": "python",
   "nbconvert_exporter": "python",
   "pygments_lexer": "ipython2",
   "version": "2.7.6"
  }
 },
 "nbformat": 4,
 "nbformat_minor": 5
}
