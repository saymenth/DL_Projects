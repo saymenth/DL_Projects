{
 "cells": [
  {
   "cell_type": "code",
   "execution_count": 7,
   "metadata": {
    "execution": {
     "iopub.execute_input": "2023-04-17T09:46:20.629122Z",
     "iopub.status.busy": "2023-04-17T09:46:20.628628Z",
     "iopub.status.idle": "2023-04-17T09:46:23.782694Z",
     "shell.execute_reply": "2023-04-17T09:46:23.781441Z",
     "shell.execute_reply.started": "2023-04-17T09:46:20.629073Z"
    },
    "id": "DGTZm1HdJ4zi",
    "ExecuteTime": {
     "end_time": "2024-04-15T10:22:29.915736Z",
     "start_time": "2024-04-15T10:22:29.911745Z"
    }
   },
   "outputs": [],
   "source": [
    "#import library\n",
    "import torch\n",
    "import torch.nn as nn\n",
    "import torch.optim as optim\n",
    "import torchvision\n",
    "\n"
   ]
  },
  {
   "cell_type": "code",
   "execution_count": 8,
   "metadata": {
    "execution": {
     "iopub.execute_input": "2023-04-17T09:46:27.312791Z",
     "iopub.status.busy": "2023-04-17T09:46:27.311928Z",
     "iopub.status.idle": "2023-04-17T09:46:37.365583Z",
     "shell.execute_reply": "2023-04-17T09:46:37.364580Z",
     "shell.execute_reply.started": "2023-04-17T09:46:27.312750Z"
    },
    "colab": {
     "base_uri": "https://localhost:8080/"
    },
    "id": "4x7-ctGoJ4zl",
    "outputId": "6e33c0b8-f646-412d-8c6f-3c4b938fd1c9",
    "ExecuteTime": {
     "end_time": "2024-04-15T10:22:55.550640Z",
     "start_time": "2024-04-15T10:22:29.921233Z"
    }
   },
   "outputs": [
    {
     "name": "stdout",
     "output_type": "stream",
     "text": [
      "Downloading https://www.cs.toronto.edu/~kriz/cifar-10-python.tar.gz to ./data/cifar-10-python.tar.gz\n"
     ]
    },
    {
     "name": "stderr",
     "output_type": "stream",
     "text": [
      "100%|███████████████████████████████████████████████████████████████████████████████████████████████████████████████████████████████████████████████████| 170498071/170498071 [00:19<00:00, 8533701.33it/s]\n"
     ]
    },
    {
     "name": "stdout",
     "output_type": "stream",
     "text": [
      "Extracting ./data/cifar-10-python.tar.gz to ./data\n",
      "Files already downloaded and verified\n"
     ]
    }
   ],
   "source": [
    "#Transform the data to tensor\n",
    "transform = torchvision.transforms.Compose([torchvision.transforms.ToTensor()])\n",
    "\n",
    "#Load the data\n",
    "trainset = torchvision.datasets.CIFAR10(root='./data', train=True, download=True, transform=transform)\n",
    "testset = torchvision.datasets.CIFAR10(root='./data', train=False, download=True, transform=transform)\n",
    "\n",
    "batch_size = 32\n",
    "trainloader = torch.utils.data.DataLoader(trainset, batch_size=batch_size, shuffle=True)\n",
    "testloader = torch.utils.data.DataLoader(trainset, batch_size=batch_size, shuffle=True)"
   ]
  },
  {
   "cell_type": "code",
   "execution_count": 9,
   "metadata": {
    "execution": {
     "iopub.execute_input": "2023-04-17T09:47:00.153274Z",
     "iopub.status.busy": "2023-04-17T09:47:00.152084Z",
     "iopub.status.idle": "2023-04-17T09:47:00.165597Z",
     "shell.execute_reply": "2023-04-17T09:47:00.163804Z",
     "shell.execute_reply.started": "2023-04-17T09:47:00.153199Z"
    },
    "id": "vh5EolxdJ4zn",
    "ExecuteTime": {
     "end_time": "2024-04-15T10:22:55.564435Z",
     "start_time": "2024-04-15T10:22:55.560886Z"
    }
   },
   "outputs": [],
   "source": [
    "#Define the architecture\n",
    "class CIFAR10Model(nn.Module):\n",
    "    def __init__(self):\n",
    "        super().__init__()\n",
    "        #First Convolution\n",
    "        self.conv1 = nn.Conv2d(3, 32, kernel_size=(3,3), stride=1, padding=1)\n",
    "        self.act1 = nn.ReLU()\n",
    "        self.drop1 = nn.Dropout(0.3)\n",
    "\n",
    "        #Second Convolution\n",
    "        self.conv2 = nn.Conv2d(32, 32, kernel_size=(3,3), stride=1, padding=1)\n",
    "        self.act2 = nn.ReLU()\n",
    "        self.pool2 = nn.MaxPool2d(kernel_size=(2, 2))\n",
    "\n",
    "        #Flatten for fully connected\n",
    "        self.flat = nn.Flatten()\n",
    "\n",
    "        self.fc3 = nn.Linear(8192, 512)\n",
    "        self.act3 = nn.ReLU()\n",
    "        self.drop3 = nn.Dropout(0.5)\n",
    "\n",
    "        self.fc4 = nn.Linear(512, 10)\n",
    "\n",
    "    #Define the process using the architecture that has been defined\n",
    "    def forward(self, x):\n",
    "        # input 3x32x32, output 32x32x32\n",
    "        x = self.act1(self.conv1(x))\n",
    "        x = self.drop1(x)\n",
    "        # input 32x32x32, output 32x32x32\n",
    "        x = self.act2(self.conv2(x))\n",
    "        # input 32x32x32, output 32x16x16\n",
    "        x = self.pool2(x)\n",
    "        # input 32x16x16, output 8192\n",
    "        x = self.flat(x)\n",
    "        # input 8192, output 512\n",
    "        x = self.act3(self.fc3(x))\n",
    "        x = self.drop3(x)\n",
    "        # input 512, output 10\n",
    "        x = self.fc4(x)\n",
    "        return x\n",
    "\n"
   ]
  },
  {
   "cell_type": "code",
   "execution_count": 10,
   "metadata": {
    "execution": {
     "iopub.execute_input": "2023-04-17T09:47:03.738300Z",
     "iopub.status.busy": "2023-04-17T09:47:03.737906Z",
     "iopub.status.idle": "2023-04-17T09:47:03.799953Z",
     "shell.execute_reply": "2023-04-17T09:47:03.799054Z",
     "shell.execute_reply.started": "2023-04-17T09:47:03.738260Z"
    },
    "id": "kztQiQNeJ4zn",
    "ExecuteTime": {
     "end_time": "2024-04-15T10:22:55.596645Z",
     "start_time": "2024-04-15T10:22:55.567775Z"
    }
   },
   "outputs": [],
   "source": [
    "#Define the model, error function and optimizer\n",
    "model = CIFAR10Model()\n",
    "loss_fn = nn.CrossEntropyLoss()\n",
    "optimizer = optim.SGD(model.parameters(), lr=0.001, momentum=0.9)\n",
    "\n"
   ]
  },
  {
   "cell_type": "code",
   "execution_count": 11,
   "metadata": {
    "execution": {
     "iopub.execute_input": "2023-04-17T09:47:07.207610Z",
     "iopub.status.busy": "2023-04-17T09:47:07.206177Z",
     "iopub.status.idle": "2023-04-17T10:35:07.997714Z",
     "shell.execute_reply": "2023-04-17T10:35:07.996482Z",
     "shell.execute_reply.started": "2023-04-17T09:47:07.207564Z"
    },
    "colab": {
     "base_uri": "https://localhost:8080/"
    },
    "id": "ATelJYUZJ4zo",
    "outputId": "50f701e8-44f2-43be-c6b9-765947f55fb6",
    "ExecuteTime": {
     "end_time": "2024-04-15T10:29:55.196349Z",
     "start_time": "2024-04-15T10:22:55.601566Z"
    }
   },
   "outputs": [
    {
     "name": "stdout",
     "output_type": "stream",
     "text": [
      "Epoch 0: model accuracy 36.03%\n",
      "Epoch 1: model accuracy 42.57%\n",
      "Epoch 2: model accuracy 45.10%\n"
     ]
    }
   ],
   "source": [
    "# Run teh process\n",
    "n_epochs = 3\n",
    "for epoch in range(n_epochs):\n",
    "    for inputs, labels in trainloader:\n",
    "        # forward, backward, and then weight update\n",
    "        y_pred = model(inputs)\n",
    "        loss = loss_fn(y_pred, labels)\n",
    "        optimizer.zero_grad()\n",
    "        loss.backward()\n",
    "        optimizer.step()\n",
    "\n",
    "    acc = 0\n",
    "    count = 0\n",
    "    for inputs, labels in testloader:\n",
    "        y_pred = model(inputs)\n",
    "        acc += (torch.argmax(y_pred, 1) == labels).float().sum()\n",
    "        count += len(labels)\n",
    "    acc /= count\n",
    "    print(\"Epoch %d: model accuracy %.2f%%\" % (epoch, acc*100))\n",
    "\n",
    "torch.save(model.state_dict(), \"cifar10model.pth\")\n",
    "\n"
   ]
  },
  {
   "cell_type": "code",
   "execution_count": 11,
   "outputs": [],
   "source": [],
   "metadata": {
    "collapsed": false,
    "ExecuteTime": {
     "end_time": "2024-04-15T10:29:55.208009Z",
     "start_time": "2024-04-15T10:29:55.205950Z"
    }
   }
  }
 ],
 "metadata": {
  "kernelspec": {
   "name": "python3",
   "language": "python",
   "display_name": "Python 3 (ipykernel)"
  },
  "language_info": {
   "codemirror_mode": {
    "name": "ipython",
    "version": 3
   },
   "file_extension": ".py",
   "mimetype": "text/x-python",
   "name": "python",
   "nbconvert_exporter": "python",
   "pygments_lexer": "ipython3",
   "version": "3.7.3"
  },
  "colab": {
   "provenance": []
  }
 },
 "nbformat": 4,
 "nbformat_minor": 0
}
